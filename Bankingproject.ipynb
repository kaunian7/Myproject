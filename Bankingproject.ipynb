{
  "nbformat": 4,
  "nbformat_minor": 0,
  "metadata": {
    "colab": {
      "provenance": [],
      "authorship_tag": "ABX9TyNf1bAWU2a7j2hZXKosUm3j",
      "include_colab_link": true
    },
    "kernelspec": {
      "name": "python3",
      "display_name": "Python 3"
    },
    "language_info": {
      "name": "python"
    }
  },
  "cells": [
    {
      "cell_type": "markdown",
      "metadata": {
        "id": "view-in-github",
        "colab_type": "text"
      },
      "source": [
        "<a href=\"https://colab.research.google.com/github/kaunian7/Myproject/blob/main/Bankingproject.ipynb\" target=\"_parent\"><img src=\"https://colab.research.google.com/assets/colab-badge.svg\" alt=\"Open In Colab\"/></a>"
      ]
    },
    {
      "cell_type": "code",
      "execution_count": 3,
      "metadata": {
        "colab": {
          "base_uri": "https://localhost:8080/"
        },
        "id": "_Cr9SoM9yFJZ",
        "outputId": "82b92c78-9398-4dcf-8d7f-ac58e0c3f21c"
      },
      "outputs": [
        {
          "output_type": "stream",
          "name": "stdout",
          "text": [
            "\n",
            " Simple Banking System\n",
            "1. Create account\n",
            "2. deposite\n",
            "3. withdraw\n",
            "4. check balance\n",
            "5. Exit\n",
            "enter you choice : 1\n",
            "enter your name: Kaunian\n",
            "Congragulations, an account is created for Kaunian\n",
            "\n",
            " Simple Banking System\n",
            "1. Create account\n",
            "2. deposite\n",
            "3. withdraw\n",
            "4. check balance\n",
            "5. Exit\n",
            "enter you choice : 2\n",
            "enter amount to deposite:  100\n",
            "deposited 100.0.New balance = 100.0\n",
            "\n",
            " Simple Banking System\n",
            "1. Create account\n",
            "2. deposite\n",
            "3. withdraw\n",
            "4. check balance\n",
            "5. Exit\n",
            "enter you choice : 3\n",
            "enter your amount to withdraw: 50\n",
            "withdrawn 50.0.New balance = 50.0\n",
            "\n",
            " Simple Banking System\n",
            "1. Create account\n",
            "2. deposite\n",
            "3. withdraw\n",
            "4. check balance\n",
            "5. Exit\n",
            "enter you choice : 4\n",
            "current balance: 50.0\n",
            "\n",
            " Simple Banking System\n",
            "1. Create account\n",
            "2. deposite\n",
            "3. withdraw\n",
            "4. check balance\n",
            "5. Exit\n",
            "enter you choice : 5\n",
            "thankyou for banking with us \n"
          ]
        }
      ],
      "source": [
        "account = {\"name\": \" \", \"balance\": 0}\n",
        "def create_account ():\n",
        "    name=input(\"enter your name: \")\n",
        "    account[\"name\"]=name\n",
        "    print(f\"Congragulations, an account is created for {name}\")\n",
        "\n",
        "def deposit():\n",
        "    amount=float(input(\"enter amount to deposite:  \"))\n",
        "    account[\"balance\"]+=amount\n",
        "    print(f\"deposited {amount}.New balance = {account['balance']}\")\n",
        "\n",
        "def withdraw():\n",
        "    amount=float(input(\"enter your amount to withdraw: \"))\n",
        "    if amount<=account[\"balance\"]:\n",
        "        account[\"balance\"]-=amount\n",
        "        print(f\"withdrawn {amount}.New balance = {account['balance']}\")\n",
        "    else:\n",
        "        print(\"insuffecient balance\")\n",
        "def check_balance():\n",
        "    print(f\"current balance: {account['balance']}\")\n",
        "\n",
        "while True:\n",
        "    print(\"\\n Simple Banking System\")\n",
        "    print(\"1. Create account\")\n",
        "    print(\"2. deposite\")\n",
        "    print(\"3. withdraw\")\n",
        "    print(\"4. check balance\")\n",
        "    print(\"5. Exit\")\n",
        "\n",
        "\n",
        "    choice = input(\"enter you choice : \")\n",
        "    if choice == \"1\":\n",
        "        create_account()\n",
        "    elif choice == \"2\":\n",
        "        deposit()\n",
        "    elif choice == \"3\":\n",
        "        withdraw()\n",
        "    elif choice == \"4\":\n",
        "        check_balance()\n",
        "    elif choice == \"5\":\n",
        "        print(\"thankyou for banking with us \")\n",
        "        break\n",
        "    else:\n",
        "        print(\"invalid choice, please try again\")"
      ]
    }
  ]
}
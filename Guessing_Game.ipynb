{
  "nbformat": 4,
  "nbformat_minor": 0,
  "metadata": {
    "colab": {
      "provenance": [],
      "authorship_tag": "ABX9TyPnqIQQe5aiwCUBsrA1t1oL",
      "include_colab_link": true
    },
    "kernelspec": {
      "name": "python3",
      "display_name": "Python 3"
    },
    "language_info": {
      "name": "python"
    }
  },
  "cells": [
    {
      "cell_type": "markdown",
      "metadata": {
        "id": "view-in-github",
        "colab_type": "text"
      },
      "source": [
        "<a href=\"https://colab.research.google.com/github/kaunian7/Myproject/blob/main/Guessing_Game.ipynb\" target=\"_parent\"><img src=\"https://colab.research.google.com/assets/colab-badge.svg\" alt=\"Open In Colab\"/></a>"
      ]
    },
    {
      "cell_type": "code",
      "execution_count": null,
      "metadata": {
        "id": "_hmZP1ystx-g"
      },
      "outputs": [],
      "source": [
        "#importing module(library)\n",
        "#creating a list of options\n",
        "#variable: enters players input\n",
        "#variabel: holds computers random choice\n",
        "#if statement to check the tie\n",
        "#elif statement to check the winner\n",
        "#else statement to declare player lost"
      ]
    },
    {
      "cell_type": "code",
      "source": [
        "import random\n",
        "choices = [\"rock\",\"paper\",\"scissors\"]\n",
        "player=input(\"enter rock, papers, or scissors:    \").lower()\n",
        "computer=random.choice(choices)\n",
        "print(\"computer chose:\",computer)\n",
        "if player==computer:\n",
        "    print(\"tie\")\n",
        "elif(player==\"rock\" and computer==\"scissors\") or (player==\"paper\" and computer==\"rock\") or (player==\"scissors\" and computer==\"papers\"):\n",
        "    print(\"you win!\")\n",
        "else:\n",
        "    print(\"you lost\")"
      ],
      "metadata": {
        "colab": {
          "base_uri": "https://localhost:8080/"
        },
        "id": "LMmgoT5UvsVh",
        "outputId": "efc4d50d-b51d-45b0-b678-a8f757425da6"
      },
      "execution_count": 9,
      "outputs": [
        {
          "output_type": "stream",
          "name": "stdout",
          "text": [
            "enter rock, papers, or scissors:    rock\n",
            "computer chose: scissors\n",
            "you win!\n"
          ]
        }
      ]
    }
  ]
}
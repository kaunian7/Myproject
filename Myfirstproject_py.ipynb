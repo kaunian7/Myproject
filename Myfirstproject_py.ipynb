{
  "nbformat": 4,
  "nbformat_minor": 0,
  "metadata": {
    "colab": {
      "provenance": []
    },
    "kernelspec": {
      "name": "python3",
      "display_name": "Python 3"
    },
    "language_info": {
      "name": "python"
    }
  },
  "cells": [
    {
      "cell_type": "code",
      "execution_count": 1,
      "metadata": {
        "colab": {
          "base_uri": "https://localhost:8080/"
        },
        "id": "jUve6HuxKc4t",
        "outputId": "96aed2ec-708f-4308-c396-7ab6fd0c489f"
      },
      "outputs": [
        {
          "output_type": "stream",
          "name": "stdout",
          "text": [
            "welcome to the number Guessing Game!\n",
            "I have picked a number between 1 and 100\n",
            "Enter your guess: 2\n",
            "You Guessed: 2\n"
          ]
        }
      ],
      "source": [
        "import random\n",
        "print(\"welcome to the number Guessing Game!\")\n",
        "number=random.randint(1,100)\n",
        "print(\"I have picked a number between 1 and 100\")\n",
        "guess=int(input(\"Enter your guess: \"))\n",
        "print(\"You Guessed:\", guess)"
      ]
    }
  ]
}
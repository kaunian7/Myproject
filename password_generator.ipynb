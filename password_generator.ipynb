{
  "nbformat": 4,
  "nbformat_minor": 0,
  "metadata": {
    "colab": {
      "provenance": [],
      "authorship_tag": "ABX9TyOM4pivZs5eolwxMiM7Sg5S",
      "include_colab_link": true
    },
    "kernelspec": {
      "name": "python3",
      "display_name": "Python 3"
    },
    "language_info": {
      "name": "python"
    }
  },
  "cells": [
    {
      "cell_type": "markdown",
      "metadata": {
        "id": "view-in-github",
        "colab_type": "text"
      },
      "source": [
        "<a href=\"https://colab.research.google.com/github/kaunian7/Myproject/blob/main/password_generator.ipynb\" target=\"_parent\"><img src=\"https://colab.research.google.com/assets/colab-badge.svg\" alt=\"Open In Colab\"/></a>"
      ]
    },
    {
      "cell_type": "code",
      "execution_count": 3,
      "metadata": {
        "id": "EJfBNjAahd22"
      },
      "outputs": [],
      "source": [
        "#input password length\n",
        "#char = letters + number + symbols\n",
        "#pick any random character, repeate it as many times as user wants then join all the random char together.\n",
        "#print the password"
      ]
    },
    {
      "cell_type": "code",
      "source": [
        "import random\n",
        "import string\n",
        "\n",
        "length = int(input(\"enter the password length: \"))\n",
        "characters = string.ascii_letters + string.digits + string.punctuation\n",
        "password = ''.join(random.choice(characters) for i in range(length))\n",
        "print(\"your password is\", password)"
      ],
      "metadata": {
        "colab": {
          "base_uri": "https://localhost:8080/"
        },
        "id": "9pbdXYHXiukh",
        "outputId": "ffac6fd5-efef-448a-e2ca-7ff4723a073c"
      },
      "execution_count": 12,
      "outputs": [
        {
          "output_type": "stream",
          "name": "stdout",
          "text": [
            "enter the password length: 8\n",
            "your password is kR1jS*Db\n"
          ]
        }
      ]
    }
  ]
}